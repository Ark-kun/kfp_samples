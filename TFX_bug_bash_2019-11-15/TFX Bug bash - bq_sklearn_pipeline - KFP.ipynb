{
 "cells": [
  {
   "cell_type": "code",
   "execution_count": 1,
   "metadata": {},
   "outputs": [],
   "source": [
    "import kfp\n",
    "\n",
    "# Initializing the client\n",
    "#client = kfp.Client()\n",
    "\n",
    "# ! Use kfp.Client(host='https://xxxxx.notebooks.googleusercontent.com/') if working from GCP notebooks (or local notebooks)\n",
    "client = kfp.Client(host='https://34c40cdd21e49f0a-dot-us-central1.notebooks.googleusercontent.com')"
   ]
  },
  {
   "cell_type": "code",
   "execution_count": 2,
   "metadata": {},
   "outputs": [],
   "source": [
    "from kfp.components import func_to_container_op, load_component_from_file, load_component_from_text, InputPath, OutputPath\n",
    "from pathlib import Path"
   ]
  },
  {
   "cell_type": "code",
   "execution_count": 3,
   "metadata": {},
   "outputs": [],
   "source": [
    "component_file_name = 'google.cloud.bigquery.query.component.yaml'\n",
    "Path(component_file_name).write_text('''\\\n",
    "name: Query BigQuery\n",
    "inputs:\n",
    "- name: Query\n",
    "  type: String\n",
    "outputs:\n",
    "- name: Results\n",
    "  type: CSV\n",
    "implementation:\n",
    "  container:\n",
    "    image: google/cloud-sdk:latest\n",
    "    command:\n",
    "    - sh\n",
    "    - -e\n",
    "    - -c\n",
    "    - |\n",
    "        if [ -n \"$GOOGLE_APPLICATION_CREDENTIALS\" ]; then\n",
    "            gcloud auth activate-service-account --key-file=\"$GOOGLE_APPLICATION_CREDENTIALS\"\n",
    "        fi\n",
    "        query=\"$0\"\n",
    "        results_path=$1\n",
    "\n",
    "        mkdir -p \"$(dirname \"$results_path\")\"\n",
    "        echo 'y' | bq init\n",
    "        bq query --nouse_legacy_sql --format csv -q \"$query\" > \"$results_path\"\n",
    "    - {inputValue: Query}\n",
    "    - {outputPath: Results}\n",
    "''')\n",
    "bq_query_op = load_component_from_file(component_file_name)"
   ]
  },
  {
   "cell_type": "code",
   "execution_count": 4,
   "metadata": {},
   "outputs": [],
   "source": [
    "def sklearn_svm_csr_train(\n",
    "    training_data_path: InputPath('CSV'),\n",
    "    model_path: OutputPath('SKLearnSvmSvrModel'),\n",
    "    transformer_path: OutputPath('SKLearnTransformer'),\n",
    "    target_column_name: str,\n",
    "):\n",
    "    import pandas\n",
    "    data = pandas.read_csv(training_data_path)\n",
    "    cleaned_data = data.select_dtypes(\"number\").fillna(0)\n",
    "\n",
    "    from sklearn.model_selection import train_test_split\n",
    "    training_data, testing_data = train_test_split(cleaned_data, test_size=0.5)\n",
    "\n",
    "    training_features = training_data.drop(target_column_name, axis=1).values\n",
    "    training_labels = training_data[target_column_name].values\n",
    "    testing_features = testing_data.drop(target_column_name, axis=1).values\n",
    "    testing_labels = testing_data[target_column_name].values\n",
    "\n",
    "    from sklearn import preprocessing\n",
    "    transformer = preprocessing.StandardScaler()\n",
    "    transformer.fit(training_features)\n",
    "\n",
    "    scaled_training_features = transformer.transform(training_features)\n",
    "    scaled_testing_features = transformer.transform(training_features)\n",
    "\n",
    "    from sklearn import svm\n",
    "    model = svm.SVR().fit(scaled_training_features, training_labels)\n",
    "\n",
    "    predictions = model.predict(scaled_testing_features)\n",
    "\n",
    "    from sklearn import metrics\n",
    "    mean_squared_error = metrics.mean_squared_error(testing_labels, predictions)\n",
    "    print(\"mean_squared_error=\" + str(mean_squared_error))\n",
    "\n",
    "    import pickle\n",
    "    with open(model_path, 'wb') as f:\n",
    "        pickle.dump(model, f)\n",
    "    with open(transformer_path, 'wb') as f:\n",
    "        pickle.dump(transformer, f)\n",
    "\n",
    "\n",
    "sklearn_svm_csr_train_op = func_to_container_op(\n",
    "    sklearn_svm_csr_train,\n",
    "    packages_to_install=['sklearn', 'pandas'],\n",
    "    output_component_file='sklearn.svm.csr.train.component.yaml',\n",
    ")"
   ]
  },
  {
   "cell_type": "code",
   "execution_count": 5,
   "metadata": {},
   "outputs": [],
   "source": [
    "def bq_sklearn_pipeline(query: str):\n",
    "    bq_query_task = bq_query_op(query=query)\n",
    "    train_svm_task = sklearn_svm_csr_train_op(\n",
    "        training_data=bq_query_task.outputs['results'],\n",
    "        target_column_name='tips',\n",
    "    )"
   ]
  },
  {
   "cell_type": "code",
   "execution_count": 6,
   "metadata": {},
   "outputs": [],
   "source": [
    "# The rate at which to sample rows from the Chicago Taxi dataset using BigQuery.\n",
    "# The full taxi dataset is > 120M record.  In the interest of resource\n",
    "# savings and time, we've set the default for this example to be much smaller.\n",
    "# Feel free to crank it up and process the full dataset!\n",
    "_query_sample_rate = 0.001  # Generate a 0.1% random sample.\n",
    "\n",
    "# This is the upper bound of FARM_FINGERPRINT in Bigquery (ie the max value of\n",
    "# signed int64).\n",
    "_max_int64 = '0x7FFFFFFFFFFFFFFF'\n",
    "\n",
    "# The query that extracts the examples from BigQuery.  The Chicago Taxi dataset\n",
    "# used for this example is a public dataset available on Google AI Platform.\n",
    "# https://console.cloud.google.com/marketplace/details/city-of-chicago-public-data/chicago-taxi-trips\n",
    "_query = \"\"\"\n",
    "         SELECT\n",
    "           pickup_community_area,\n",
    "           fare,\n",
    "           EXTRACT(MONTH FROM trip_start_timestamp) AS trip_start_month,\n",
    "           EXTRACT(HOUR FROM trip_start_timestamp) AS trip_start_hour,\n",
    "           EXTRACT(DAYOFWEEK FROM trip_start_timestamp) AS trip_start_day,\n",
    "           UNIX_SECONDS(trip_start_timestamp) AS trip_start_timestamp,\n",
    "           pickup_latitude,\n",
    "           pickup_longitude,\n",
    "           dropoff_latitude,\n",
    "           dropoff_longitude,\n",
    "           trip_miles,\n",
    "           pickup_census_tract,\n",
    "           dropoff_census_tract,\n",
    "           payment_type,\n",
    "           company,\n",
    "           trip_seconds,\n",
    "           dropoff_community_area,\n",
    "           tips\n",
    "         FROM `bigquery-public-data.chicago_taxi_trips.taxi_trips`\n",
    "         WHERE (ABS(FARM_FINGERPRINT(unique_key)) / {max_int64})\n",
    "           < {query_sample_rate}\"\"\".format(\n",
    "               max_int64=_max_int64, query_sample_rate=_query_sample_rate)"
   ]
  },
  {
   "cell_type": "code",
   "execution_count": 7,
   "metadata": {},
   "outputs": [
    {
     "data": {
      "text/html": [
       "Experiment link <a href=\"https://34c40cdd21e49f0a-dot-us-central1.notebooks.googleusercontent.com/#/experiments/details/64288191-6f27-4804-ac6a-2629fd0f1f09\" target=\"_blank\" >here</a>"
      ],
      "text/plain": [
       "<IPython.core.display.HTML object>"
      ]
     },
     "metadata": {},
     "output_type": "display_data"
    },
    {
     "data": {
      "text/html": [
       "Run link <a href=\"https://34c40cdd21e49f0a-dot-us-central1.notebooks.googleusercontent.com/#/runs/details/f76c79c8-21b9-46ff-8c1e-6e0bf74f4463\" target=\"_blank\" >here</a>"
      ],
      "text/plain": [
       "<IPython.core.display.HTML object>"
      ]
     },
     "metadata": {},
     "output_type": "display_data"
    },
    {
     "data": {
      "text/plain": [
       "RunPipelineResult(run_id=f76c79c8-21b9-46ff-8c1e-6e0bf74f4463)"
      ]
     },
     "execution_count": 7,
     "metadata": {},
     "output_type": "execute_result"
    }
   ],
   "source": [
    "from kfp.gcp import use_gcp_secret\n",
    "pipeline_conf = kfp.dsl.PipelineConf()\n",
    "pipeline_conf.add_op_transformer(use_gcp_secret())\n",
    "\n",
    "client.create_run_from_pipeline_func(\n",
    "    bq_sklearn_pipeline,\n",
    "    arguments=dict(\n",
    "        query=_query,\n",
    "    ),\n",
    "    pipeline_conf=pipeline_conf,\n",
    ")"
   ]
  },
  {
   "cell_type": "code",
   "execution_count": null,
   "metadata": {},
   "outputs": [],
   "source": []
  },
  {
   "cell_type": "code",
   "execution_count": null,
   "metadata": {},
   "outputs": [],
   "source": []
  }
 ],
 "metadata": {
  "kernelspec": {
   "display_name": "Python 3",
   "language": "python",
   "name": "python3"
  },
  "language_info": {
   "codemirror_mode": {
    "name": "ipython",
    "version": 3
   },
   "file_extension": ".py",
   "mimetype": "text/x-python",
   "name": "python",
   "nbconvert_exporter": "python",
   "pygments_lexer": "ipython3",
   "version": "3.5.3"
  }
 },
 "nbformat": 4,
 "nbformat_minor": 4
}
