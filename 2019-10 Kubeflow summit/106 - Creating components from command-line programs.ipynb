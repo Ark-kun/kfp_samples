{
 "cells": [
  {
   "cell_type": "code",
   "execution_count": 2,
   "metadata": {},
   "outputs": [],
   "source": [
    "# Install Kubeflow Pipelines SDK\n",
    "!PIP_DISABLE_PIP_VERSION_CHECK=1 pip3 install 'kfp>=0.1.32.2' --quiet"
   ]
  },
  {
   "cell_type": "code",
   "execution_count": null,
   "metadata": {},
   "outputs": [],
   "source": [
    "import kfp\n",
    "# Initializing the client\n",
    "client = kfp.Client()\n",
    "\n",
    "# ! Use kfp.Client(host='https://xxxxx.notebooks.googleusercontent.com/') if working from GCP notebooks (or local notebooks)"
   ]
  },
  {
   "cell_type": "code",
   "execution_count": 3,
   "metadata": {},
   "outputs": [],
   "source": [
    "build_image_component_text = '''\n",
    "name: Build container image\n",
    "inputs:\n",
    "- {name: Context archive URI, type: URI}\n",
    "- {name: Target image name, type: String}\n",
    "outputs:\n",
    "- {name: Image digest, type: String}\n",
    "implementation:\n",
    "  container:\n",
    "    image: gcr.io/kaniko-project/executor@sha256:78d44ec4e9cb5545d7f85c1924695c89503ded86a59f92c7ae658afa3cff5400\n",
    "    command:\n",
    "    - /kaniko/executor\n",
    "    - --cache=true\n",
    "    - --dockerfile\n",
    "    - Dockerfile\n",
    "    - --context\n",
    "    - inputValue: Context archive URI\n",
    "    - --destination\n",
    "    - inputValue: Target image name\n",
    "    - --digest-file\n",
    "    - /tmp/digest.txt\n",
    "    fileOutputs:\n",
    "      Image digest: /tmp/digest.txt\n",
    "'''\n",
    "\n",
    "build_image_op = kfp.components.load_component_from_text(build_image_component_text)"
   ]
  },
  {
   "cell_type": "code",
   "execution_count": 4,
   "metadata": {},
   "outputs": [],
   "source": [
    "git_clone_component_text = '''\n",
    "name: Git clone\n",
    "inputs:\n",
    "- {name: Repo URI, type: URI}\n",
    "- {name: Branch, type: String, default: 'master'}\n",
    "outputs:\n",
    "- {name: Repo dir, type: Directory}\n",
    "implementation:\n",
    "  container:\n",
    "    image: alpine/git\n",
    "    command:\n",
    "    - git\n",
    "    - clone\n",
    "    - --depth=1\n",
    "    - --branch\n",
    "    - inputValue: Branch\n",
    "    - inputValue: Repo URI\n",
    "    - outputPath: Repo dir\n",
    "'''\n",
    "\n",
    "import kfp\n",
    "git_clone_op = kfp.components.load_component_from_text(git_clone_component_text)"
   ]
  },
  {
   "cell_type": "code",
   "execution_count": 5,
   "metadata": {},
   "outputs": [],
   "source": [
    "get_subdir_component_text = '''\n",
    "name: Get subdirectory\n",
    "description: Get subdirectory items (files or directories).\n",
    "inputs:\n",
    "- {name: Directory, type: Directory}\n",
    "- {name: Subpath, type: String}\n",
    "outputs:\n",
    "- {name: Subdir, type: Directory}\n",
    "implementation:\n",
    "  container:\n",
    "    image: alpine\n",
    "    command:\n",
    "    - sh\n",
    "    - -ex\n",
    "    - -c\n",
    "    - |\n",
    "      mkdir -p \"$(dirname \"$2\")\"\n",
    "      cp -r \"$0/$1\" \"$2\"\n",
    "    - inputPath: Directory\n",
    "    - inputValue: Subpath\n",
    "    - outputPath: Subdir\n",
    "'''\n",
    "get_subdir_op = kfp.components.load_component_from_text(get_subdir_component_text)"
   ]
  },
  {
   "cell_type": "code",
   "execution_count": 6,
   "metadata": {},
   "outputs": [],
   "source": [
    "tar_gzip_component_text = '''\n",
    "name: Compress directory using TAR GZIP\n",
    "inputs:\n",
    "- {name: Data, type: Directory}\n",
    "outputs:\n",
    "- {name: Gzipped data, type: GzippedTar}\n",
    "implementation:\n",
    "  container:\n",
    "    image: alpine\n",
    "    command:\n",
    "    - sh\n",
    "    - -ex\n",
    "    - -c\n",
    "    - |\n",
    "      mkdir -p \"$(dirname \"$1\")\"\n",
    "      cd \"$0\"\n",
    "      tar c -z -f \"$1\" .\n",
    "    - inputPath: Data\n",
    "    - outputPath: Gzipped data\n",
    "'''\n",
    "tar_gzip_op = kfp.components.load_component_from_text(tar_gzip_component_text)"
   ]
  },
  {
   "cell_type": "code",
   "execution_count": 7,
   "metadata": {},
   "outputs": [],
   "source": [
    "upload_to_gcs_component_text = '''\n",
    "name: Upload to GCS\n",
    "inputs:\n",
    "- {name: Data}\n",
    "- {name: GCS path, type: URI}\n",
    "outputs:\n",
    "- {name: GCS path, type: URI}\n",
    "implementation:\n",
    "  container:\n",
    "    image: google/cloud-sdk\n",
    "    command:\n",
    "    - sh\n",
    "    - -ex\n",
    "    - -c\n",
    "    - |\n",
    "      gcloud auth activate-service-account --key-file=\"${GOOGLE_APPLICATION_CREDENTIALS}\"\n",
    "      gsutil cp \"$0\" \"$1\"\n",
    "      mkdir -p \"$(dirname \"$2\")\"\n",
    "      echo \"$1\" > \"$2\"\n",
    "    - inputPath: Data\n",
    "    - inputValue: GCS path\n",
    "    - outputPath: GCS path\n",
    "'''\n",
    "upload_to_gcs_op = kfp.components.load_component_from_text(upload_to_gcs_component_text)"
   ]
  },
  {
   "cell_type": "code",
   "execution_count": 8,
   "metadata": {},
   "outputs": [],
   "source": [
    "print_component_text = '''\n",
    "name: Print text\n",
    "inputs:\n",
    "- {name: Text}\n",
    "implementation:\n",
    "  container:\n",
    "    image: alpine\n",
    "    command:\n",
    "    - cat\n",
    "    - inputPath: Text\n",
    "'''\n",
    "print_op = kfp.components.load_component_from_text(print_component_text)"
   ]
  },
  {
   "cell_type": "code",
   "execution_count": 56,
   "metadata": {},
   "outputs": [
    {
     "data": {
      "text/html": [
       "Experiment link <a href=\"/pipeline/#/experiments/details/a565f84e-d79c-41c8-b802-9ef1b03e5dce\" target=\"_blank\" >here</a>"
      ],
      "text/plain": [
       "<IPython.core.display.HTML object>"
      ]
     },
     "metadata": {},
     "output_type": "display_data"
    },
    {
     "data": {
      "text/html": [
       "Run link <a href=\"/pipeline/#/runs/details/9f8be6c1-ebdb-11e9-86d4-42010a8001a5\" target=\"_blank\" >here</a>"
      ],
      "text/plain": [
       "<IPython.core.display.HTML object>"
      ]
     },
     "metadata": {},
     "output_type": "display_data"
    },
    {
     "data": {
      "text/plain": [
       "<kfp._client.Client.create_run_from_pipeline_package.<locals>.RunPipelineResult at 0x7f8cb409fa58>"
      ]
     },
     "execution_count": 56,
     "metadata": {},
     "output_type": "execute_result"
    }
   ],
   "source": [
    "def my_pipeline2():\n",
    "    git_clone_task = git_clone_op(\n",
    "        repo_uri='https://github.com/kubeflow/pipelines.git',\n",
    "    )\n",
    "    get_subdir_task = get_subdir_op(\n",
    "        directory=git_clone_task.output,\n",
    "        subpath='components/sample/keras/train_classifier',\n",
    "    )\n",
    "    tar_gzip_task = tar_gzip_op(\n",
    "        data=get_subdir_task.output,\n",
    "    )\n",
    "    upload_to_gcs_task = upload_to_gcs_op(\n",
    "        data=tar_gzip_task.output,\n",
    "        gcs_path='gs://avolkov/tmp_git_pipeline/tmp123.tgz',\n",
    "    )\n",
    "    build_image_task = build_image_op(\n",
    "        context_archive_uri=upload_to_gcs_task.output,\n",
    "        target_image_name='gcr.io/avolkov-31337/tmp1:tag1',\n",
    "    )\n",
    "    print_op(\n",
    "        build_image_task.outputs['image_digest']\n",
    "    )\n",
    "    \n",
    "\n",
    "from kfp import gcp\n",
    "pipeline_conf=kfp.dsl.PipelineConf()\n",
    "pipeline_conf.add_op_transformer(gcp.use_gcp_secret('user-gcp-sa'))\n",
    "\n",
    "client.create_run_from_pipeline_func(my_pipeline2, arguments={}, pipeline_conf=pipeline_conf)"
   ]
  },
  {
   "cell_type": "code",
   "execution_count": null,
   "metadata": {},
   "outputs": [],
   "source": []
  },
  {
   "cell_type": "code",
   "execution_count": null,
   "metadata": {},
   "outputs": [],
   "source": []
  },
  {
   "cell_type": "code",
   "execution_count": null,
   "metadata": {},
   "outputs": [],
   "source": []
  },
  {
   "cell_type": "code",
   "execution_count": null,
   "metadata": {},
   "outputs": [],
   "source": []
  },
  {
   "cell_type": "code",
   "execution_count": null,
   "metadata": {},
   "outputs": [],
   "source": []
  },
  {
   "cell_type": "code",
   "execution_count": 9,
   "metadata": {},
   "outputs": [],
   "source": [
    "build_image_component_text = '''\n",
    "name: Build container image\n",
    "inputs:\n",
    "- {name: Context}\n",
    "- {name: Target image name, type: String}\n",
    "outputs:\n",
    "- {name: Image digest, type: String}\n",
    "implementation:\n",
    "  container:\n",
    "    image: gcr.io/kaniko-project/executor@sha256:78d44ec4e9cb5545d7f85c1924695c89503ded86a59f92c7ae658afa3cff5400\n",
    "    command:\n",
    "    - /kaniko/executor\n",
    "    - --cache=true\n",
    "    - --dockerfile\n",
    "    - Dockerfile\n",
    "    - --context\n",
    "    - inputPath: Context\n",
    "    - --destination\n",
    "    - inputValue: Target image name\n",
    "    - --digest-file\n",
    "    - /tmp/digest.txt\n",
    "    fileOutputs:\n",
    "      Image digest: /tmp/digest.txt\n",
    "'''\n",
    "\n",
    "build_image_op = kfp.components.load_component_from_text(build_image_component_text)"
   ]
  },
  {
   "cell_type": "code",
   "execution_count": 12,
   "metadata": {},
   "outputs": [
    {
     "data": {
      "text/html": [
       "Experiment link <a href=\"/pipeline/#/experiments/details/a565f84e-d79c-41c8-b802-9ef1b03e5dce\" target=\"_blank\" >here</a>"
      ],
      "text/plain": [
       "<IPython.core.display.HTML object>"
      ]
     },
     "metadata": {},
     "output_type": "display_data"
    },
    {
     "data": {
      "text/html": [
       "Run link <a href=\"/pipeline/#/runs/details/b0faff0d-f778-11e9-93ae-42010a800216\" target=\"_blank\" >here</a>"
      ],
      "text/plain": [
       "<IPython.core.display.HTML object>"
      ]
     },
     "metadata": {},
     "output_type": "display_data"
    },
    {
     "data": {
      "text/plain": [
       "RunPipelineResult(run_id=b0faff0d-f778-11e9-93ae-42010a800216)"
      ]
     },
     "execution_count": 12,
     "metadata": {},
     "output_type": "execute_result"
    }
   ],
   "source": [
    "def my_pipeline2():\n",
    "    git_clone_task = git_clone_op(\n",
    "        repo_uri='https://github.com/kubeflow/pipelines.git',\n",
    "    )\n",
    "    get_subdir_task = get_subdir_op(\n",
    "        directory=git_clone_task.output,\n",
    "        subpath='components/sample/keras/train_classifier',\n",
    "    )\n",
    "    build_image_task = build_image_op(\n",
    "        context=get_subdir_task.output,\n",
    "        target_image_name='gcr.io/avolkov-31337/tmp1:tag1',\n",
    "    )\n",
    "    print_op(\n",
    "        build_image_task.outputs['image_digest']\n",
    "    )\n",
    "    \n",
    "\n",
    "from kfp import gcp\n",
    "pipeline_conf=kfp.dsl.PipelineConf()\n",
    "pipeline_conf.add_op_transformer(gcp.use_gcp_secret('user-gcp-sa'))\n",
    "\n",
    "client.create_run_from_pipeline_func(my_pipeline2, arguments={}, pipeline_conf=pipeline_conf)"
   ]
  }
 ],
 "metadata": {
  "kernelspec": {
   "display_name": "Python 3",
   "language": "python",
   "name": "python3"
  },
  "language_info": {
   "codemirror_mode": {
    "name": "ipython",
    "version": 3
   },
   "file_extension": ".py",
   "mimetype": "text/x-python",
   "name": "python",
   "nbconvert_exporter": "python",
   "pygments_lexer": "ipython3",
   "version": "3.6.7"
  }
 },
 "nbformat": 4,
 "nbformat_minor": 2
}
