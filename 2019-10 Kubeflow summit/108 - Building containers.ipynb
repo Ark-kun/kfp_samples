{
 "cells": [
  {
   "cell_type": "markdown",
   "metadata": {},
   "source": [
    "# KubeFlow Pipelines - Building containers \n",
    "\n",
    "In this notebook, we will demo: \n",
    "\n",
    "* Buiding a container image to use as base image for component\n",
    "\n",
    "Reference documentation: \n",
    "* https://www.kubeflow.org/docs/pipelines/sdk/build-component/\n",
    "* https://www.kubeflow.org/docs/pipelines/sdk/sdk-overview/"
   ]
  },
  {
   "cell_type": "code",
   "execution_count": 2,
   "metadata": {
    "scrolled": true
   },
   "outputs": [
    {
     "name": "stdout",
     "output_type": "stream",
     "text": [
      "\u001b[33mYou are using pip version 19.0.1, however version 19.3.1 is available.\n",
      "You should consider upgrading via the 'pip install --upgrade pip' command.\u001b[0m\n"
     ]
    }
   ],
   "source": [
    "# Install Kubeflow Pipelines SDK\n",
    "!PIP_DISABLE_PIP_VERSION_CHECK=1 pip3 install 'kfp>=0.1.32.2' --quiet"
   ]
  },
  {
   "cell_type": "code",
   "execution_count": 11,
   "metadata": {},
   "outputs": [],
   "source": [
    "import kfp\n",
    "# Initializing the client\n",
    "client = kfp.Client()\n",
    "\n",
    "# ! Use kfp.Client(host='https://xxxxx.notebooks.googleusercontent.com/') if working from GCP notebooks (or local notebooks)"
   ]
  },
  {
   "cell_type": "markdown",
   "metadata": {},
   "source": [
    "## Create a python function"
   ]
  },
  {
   "cell_type": "code",
   "execution_count": 3,
   "metadata": {},
   "outputs": [],
   "source": [
    "def add(a: float, b: float) -> float:\n",
    "    '''Calculates sum of two arguments'''\n",
    "    \n",
    "    print(\"Adding two values %s and %s\" %(a, b))\n",
    "    \n",
    "    return a + b"
   ]
  },
  {
   "cell_type": "markdown",
   "metadata": {},
   "source": [
    " ## Build a new container for and use is as the base image for components.\n",
    " Build and push a new container image that includes some required packages. The packages are specified in the requirements.txt file in the working directory.\n",
    " Use the new container image as the base image for components.\n",
    " Create a new component from the above function.\n",
    " The return value \"add_op\" represents a step that can be used directly in a pipeline function."
   ]
  },
  {
   "cell_type": "code",
   "execution_count": 4,
   "metadata": {},
   "outputs": [
    {
     "name": "stdout",
     "output_type": "stream",
     "text": [
      "google-api-python-client == 1.7.0\n",
      "\n"
     ]
    }
   ],
   "source": [
    "from pathlib import Path\n",
    "print(Path('requirements.txt').read_text())"
   ]
  },
  {
   "cell_type": "code",
   "execution_count": 5,
   "metadata": {},
   "outputs": [],
   "source": [
    "import kfp\n",
    "from kfp.containers import build_image_from_working_dir\n",
    "from kfp.components import func_to_container_op"
   ]
  },
  {
   "cell_type": "code",
   "execution_count": 10,
   "metadata": {},
   "outputs": [
    {
     "name": "stdout",
     "output_type": "stream",
     "text": [
      "gcr.io/avolkov-31337/notebook-kubeflow-kfp-notebook/kfp_container@sha256:80c2fc392286355f4f5feef286faea5879743735763246bafd4278a791fabc48\n"
     ]
    }
   ],
   "source": [
    "# Building and pushing new container image\n",
    "image_with_packages = build_image_from_working_dir(\n",
    "    #image_name=...,\n",
    ")\n",
    "print(image_with_packages)"
   ]
  },
  {
   "cell_type": "code",
   "execution_count": 6,
   "metadata": {
    "scrolled": true
   },
   "outputs": [],
   "source": [
    "# Creating component while explicitly specifying the newly-built base image\n",
    "add_op = func_to_container_op(add, base_image=image_with_packages)"
   ]
  },
  {
   "cell_type": "code",
   "execution_count": 7,
   "metadata": {},
   "outputs": [],
   "source": [
    "# You can also set up the image builder as default image so that it is always used by default\n",
    "kfp.components.default_base_image_or_builder = build_image_from_working_dir\n",
    "\n",
    "# Or is you want to customize the builder, you can use lambda:\n",
    "kfp.components.default_base_image_or_builder = lambda: build_image_from_working_dir(base_image='google/cloud-sdk:latest')\n",
    "\n",
    "# Now all python components will start using that container builder by default:\n",
    "add_op2 = func_to_container_op(add)"
   ]
  },
  {
   "cell_type": "markdown",
   "metadata": {},
   "source": [
    "### Build a pipeline using this component"
   ]
  },
  {
   "cell_type": "code",
   "execution_count": 8,
   "metadata": {},
   "outputs": [],
   "source": [
    "import kfp.dsl as dsl\n",
    "@dsl.pipeline(\n",
    "   name='Calculation pipeline',\n",
    "   description='A sample pipeline that performs arithmetic calculations.'\n",
    ")\n",
    "def calc_pipeline(\n",
    "   a='1',\n",
    "   b='7',\n",
    "   c='17',\n",
    "):\n",
    "    #Passing pipeline parameter and a constant value as operation arguments\n",
    "    add_task = add_op(a, b) #Returns a dsl.ContainerOp class instance. \n",
    "    \n",
    "    #You can create explicit dependancy between the tasks using xyz_task.after(abc_task)\n",
    "    add_2_task = add_op(b, c)\n",
    "    \n",
    "    add_3_task = add_op(add_task.output, add_2_task.output)"
   ]
  },
  {
   "cell_type": "markdown",
   "metadata": {},
   "source": [
    "## Submit the pipeline for execution"
   ]
  },
  {
   "cell_type": "code",
   "execution_count": 9,
   "metadata": {},
   "outputs": [
    {
     "data": {
      "text/html": [
       "Experiment link <a href=\"/pipeline/#/experiments/details/a565f84e-d79c-41c8-b802-9ef1b03e5dce\" target=\"_blank\" >here</a>"
      ],
      "text/plain": [
       "<IPython.core.display.HTML object>"
      ]
     },
     "metadata": {},
     "output_type": "display_data"
    },
    {
     "data": {
      "text/html": [
       "Run link <a href=\"/pipeline/#/runs/details/a003d112-f76e-11e9-93ae-42010a800216\" target=\"_blank\" >here</a>"
      ],
      "text/plain": [
       "<IPython.core.display.HTML object>"
      ]
     },
     "metadata": {},
     "output_type": "display_data"
    },
    {
     "data": {
      "text/plain": [
       "RunPipelineResult(run_id=a003d112-f76e-11e9-93ae-42010a800216)"
      ]
     },
     "execution_count": 9,
     "metadata": {},
     "output_type": "execute_result"
    }
   ],
   "source": [
    "arguments = {'a': '7', 'b': '8'}\n",
    "client.create_run_from_pipeline_func(pipeline_func=calc_pipeline, arguments=arguments)\n",
    "\n",
    "# This should output link that leads to the run information page. \n",
    "# Note: There is a bug in JupyterLab that modifies the URL and makes the link stop working"
   ]
  }
 ],
 "metadata": {
  "kernelspec": {
   "display_name": "Python 3",
   "language": "python",
   "name": "python3"
  },
  "language_info": {
   "codemirror_mode": {
    "name": "ipython",
    "version": 3
   },
   "file_extension": ".py",
   "mimetype": "text/x-python",
   "name": "python",
   "nbconvert_exporter": "python",
   "pygments_lexer": "ipython3",
   "version": "3.6.7"
  }
 },
 "nbformat": 4,
 "nbformat_minor": 2
}
